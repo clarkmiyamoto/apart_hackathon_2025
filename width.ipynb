{
  "cells": [
    {
      "cell_type": "code",
      "execution_count": null,
      "metadata": {
        "id": "iIXwI4MD7gfY"
      },
      "outputs": [],
      "source": [
        "%load_ext autoreload\n",
        "%autoreload 2"
      ]
    },
    {
      "cell_type": "markdown",
      "metadata": {
        "id": "VYpPLJvSuJJt"
      },
      "source": [
        "# Code"
      ]
    },
    {
      "cell_type": "code",
      "execution_count": null,
      "metadata": {
        "id": "GdCgznph4S3s"
      },
      "outputs": [],
      "source": [
        "from width import *\n",
        "\n",
        "import torch\n",
        "import torch.nn as nn\n",
        "from torch.utils.data import DataLoader\n",
        "from torchvision import datasets, transforms\n",
        "device = torch.device(\"cuda\" if torch.cuda.is_available() else \"cpu\")\n",
        "\n",
        "from tqdm import tqdm\n",
        "import itertools\n",
        "\n",
        "import matplotlib.pyplot as plt"
      ]
    },
    {
      "cell_type": "markdown",
      "metadata": {
        "id": "5ZDEpR4EOtfZ"
      },
      "source": [
        "# Experiment 1:\n",
        "\n",
        "How does the ratio of `hidden_width` vs `auxiliary_logits` affect the performance of the student network?"
      ]
    },
    {
      "cell_type": "code",
      "execution_count": null,
      "metadata": {
        "id": "qY7CWG1z4a_U"
      },
      "outputs": [],
      "source": [
        "def run(hidden_width: int, auxiliary_logits: int, seed: int = 42):\n",
        "  # Seed\n",
        "  g = set_seed(seed)\n",
        "\n",
        "  # Initalize Network\n",
        "  teacher, student = init_models(hidden_width=hidden_width, auxiliary_logits=auxiliary_logits)\n",
        "  teacher = torch.compile(teacher)\n",
        "  student = torch.compile(student)\n",
        "\n",
        "  # Training Parameters\n",
        "  epochs = 5\n",
        "  lr = 0.001\n",
        "  optimizer_teacher = torch.optim.Adam(teacher.parameters(), lr=lr)\n",
        "  optimizer_student = torch.optim.Adam(student.parameters(), lr=lr)\n",
        "  criterion_teacher = nn.CrossEntropyLoss()\n",
        "  criterion_student = nn.MSELoss()\n",
        "\n",
        "  batch_size = 128\n",
        "  train_loader, test_loader = Dataset.load_FashionMNIST(batch_size=batch_size, seed=seed)\n",
        "\n",
        "  # Run Training\n",
        "  trainer = Trainer(student, teacher, train_loader, optimizer_teacher, optimizer_student, criterion_teacher, criterion_student, device)\n",
        "\n",
        "  baseline_teacher = trainer.performance(trainer.teacher, test_loader)\n",
        "  baseline_student = trainer.performance(trainer.student, test_loader)\n",
        "\n",
        "  print('Start Training')\n",
        "  trainer.train_teacher(epochs)\n",
        "  trainer.train_student(epochs)\n",
        "  print('Finished Training')\n",
        "\n",
        "  results_teacher = trainer.performance(trainer.teacher, test_loader)\n",
        "  results_student = trainer.performance(trainer.student, test_loader)\n",
        "\n",
        "  del teacher, student, trainer, optimizer_student, optimizer_teacher\n",
        "  torch.cuda.empty_cache()\n",
        "\n",
        "  return baseline_teacher, baseline_student, results_teacher, results_student"
      ]
    },
    {
      "cell_type": "code",
      "execution_count": null,
      "metadata": {},
      "outputs": [],
      "source": []
    },
    {
      "cell_type": "code",
      "execution_count": null,
      "metadata": {
        "colab": {
          "base_uri": "https://localhost:8080/"
        },
        "id": "ksajnfNU4hCV",
        "outputId": "e25ada60-4a58-4658-dfe2-377c72d4c00e"
      },
      "outputs": [],
      "source": [
        "hiddens = [2 ** j for j in range(8, 13)]\n",
        "auxiliaries = [3, 10, 50, 100]\n",
        "\n",
        "itt = list(itertools.product(hiddens, auxiliaries))\n",
        "seeds = range(len(list(itt)))\n",
        "\n",
        "results = []\n",
        "for (hidden, auxiliary), seed in tqdm(zip(itt, seeds)):\n",
        "  result = run(hidden_width=hidden, auxiliary_logits=auxiliary, seed=seed)\n",
        "  results.append(result)"
      ]
    },
    {
      "cell_type": "code",
      "execution_count": null,
      "metadata": {
        "id": "gPBVeoFf5u5-"
      },
      "outputs": [],
      "source": [
        "batches_acc_1hot = []\n",
        "batches_acc_5hot = []\n",
        "batches_acc_1hot_teacher = []\n",
        "\n",
        "for result in results:\n",
        "  batch_acc_1hot = []\n",
        "  batch_acc_5hot = []\n",
        "  batch_acc_1hot_teacher = []\n",
        "  for seed in result:\n",
        "    baseline_teacher, baseline_student, results_teacher, results_student = seed\n",
        "\n",
        "    # Student Metrics\n",
        "    # student_loss_teacherMetric.append(results_student['loss_teacher'])\n",
        "    batch_acc_1hot.append(results_student['acc_1hot'])\n",
        "    batch_acc_5hot.append(results_student['acc_5hot'])\n",
        "\n",
        "    # Teacher Metrics\n",
        "    batch_acc_1hot_teacher.append(results_teacher['acc_1hot'])\n",
        "\n",
        "  batches_acc_1hot.append(batch_acc_1hot)\n",
        "  batches_acc_5hot.append(batch_acc_5hot)\n",
        "  batches_acc_1hot_teacher.append(batch_acc_1hot_teacher)\n",
        "\n",
        "data_acc_1hot = np.stack(batches_acc_1hot)\n",
        "data_acc_5hot = np.stack(batches_acc_5hot)\n",
        "data_acc_1hot_teacher = np.stack(batches_acc_1hot_teacher)"
      ]
    },
    {
      "cell_type": "code",
      "execution_count": null,
      "metadata": {},
      "outputs": [],
      "source": [
        "[plt.scatter(lst, data_acc_1hot[:,i], color='blue') for i in range(data_acc_1hot.shape[1])]\n",
        "[plt.scatter(lst, data_acc_5hot[:,i], color='mediumblue', linestyle='--') for i in range(data_acc_5hot.shape[1])]\n",
        "[plt.scatter(lst, data_acc_1hot_teacher[:,i], color='red') for i in range(data_acc_1hot_teacher.shape[1])]\n",
        "\n",
        "plt.plot(lst, data_acc_1hot.mean(axis=1), color='blue', label='acc_1hot (student)')\n",
        "plt.plot(lst, data_acc_5hot.mean(axis=1), color='mediumblue', linestyle='--', label='acc_5hot (student)')\n",
        "plt.plot(lst, data_acc_1hot_teacher.mean(axis=1), color='red', label='acc_1hot (teacher)')\n",
        "\n",
        "plt.xscale('log', base=2)\n",
        "\n",
        "plt.xlabel('hidden_width')\n",
        "plt.ylabel('After training performance')\n",
        "plt.title(f\"Student's Performance on Fashion MNIST Validation Set (s.t. auxiliary_logits / hidden_width  = {ratio})\")\n",
        "\n",
        "\n",
        "plt.legend(loc='center left', bbox_to_anchor=(1, 0.5))\n",
        "plt.show()"
      ]
    },
    {
      "cell_type": "code",
      "execution_count": null,
      "metadata": {
        "colab": {
          "base_uri": "https://localhost:8080/",
          "height": 346
        },
        "id": "5Mli_AMnS6Gq",
        "outputId": "8121a1c0-70d9-44f1-b7d5-19fed04af9c8"
      },
      "outputs": [],
      "source": [
        "plt.plot(lst, student_acc_1hot, label='acc_1hot (student)', color='blue', marker='o')\n",
        "plt.plot(lst, student_acc_5hot, label='acc_5hot (student)', color='blue', linestyle='--', marker='o')\n",
        "plt.plot(lst, teacher_acc_1hot, label='acc_1hot (teacher)', color='red', marker='o')\n",
        "\n",
        "plt.xscale('log', base=2)\n",
        "\n",
        "plt.xlabel('hidden_width')\n",
        "plt.ylabel('After training performance')\n",
        "plt.title(f\"Student's Performance on Fashion MNIST Validation Set (s.t. auxiliary_logits / hidden_width  = {ratio})\")\n",
        "\n",
        "plt.legend(loc='center left', bbox_to_anchor=(1, 0.5))\n",
        "plt.show()"
      ]
    },
    {
      "cell_type": "code",
      "execution_count": null,
      "metadata": {
        "colab": {
          "base_uri": "https://localhost:8080/"
        },
        "id": "zj59YPuxTz2_",
        "outputId": "254aa899-159a-45e7-bd8d-eca9bffd6ded"
      },
      "outputs": [],
      "source": []
    },
    {
      "cell_type": "code",
      "execution_count": null,
      "metadata": {
        "id": "c2_BuquhecLH"
      },
      "outputs": [],
      "source": []
    }
  ],
  "metadata": {
    "accelerator": "GPU",
    "colab": {
      "gpuType": "T4",
      "provenance": []
    },
    "kernelspec": {
      "display_name": "torch",
      "language": "python",
      "name": "python3"
    },
    "language_info": {
      "codemirror_mode": {
        "name": "ipython",
        "version": 3
      },
      "file_extension": ".py",
      "mimetype": "text/x-python",
      "name": "python",
      "nbconvert_exporter": "python",
      "pygments_lexer": "ipython3",
      "version": "3.13.2"
    }
  },
  "nbformat": 4,
  "nbformat_minor": 0
}
