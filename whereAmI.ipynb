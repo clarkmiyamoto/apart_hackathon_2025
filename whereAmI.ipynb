{
 "cells": [
  {
   "cell_type": "code",
   "execution_count": null,
   "id": "3ddc721c",
   "metadata": {},
   "outputs": [
    {
     "ename": "IndentationError",
     "evalue": "unexpected indent (2744787938.py, line 2)",
     "output_type": "error",
     "traceback": [
      "  \u001b[36mCell\u001b[39m\u001b[36m \u001b[39m\u001b[32mIn[1]\u001b[39m\u001b[32m, line 2\u001b[39m\n\u001b[31m    \u001b[39m\u001b[31mdepths      = [1, 2, 3, 5] # Depth\u001b[39m\n    ^\n\u001b[31mIndentationError\u001b[39m\u001b[31m:\u001b[39m unexpected indent\n"
     ]
    }
   ],
   "source": [
    "import itertools\n",
    "\n",
    "hiddens     = [2 ** j for j in range(6, 13)] # Width\n",
    "depths      = [1, 2, 3, 5] # Depth\n",
    "auxiliaries = [3, 10, 50, 100, 1000] # Auxiliary logits\n",
    "\n",
    "itt = list(itertools.product(hiddens, depths, auxiliaries))"
   ]
  },
  {
   "cell_type": "code",
   "execution_count": null,
   "id": "17c494e9",
   "metadata": {},
   "outputs": [],
   "source": []
  }
 ],
 "metadata": {
  "kernelspec": {
   "display_name": "torch",
   "language": "python",
   "name": "python3"
  },
  "language_info": {
   "codemirror_mode": {
    "name": "ipython",
    "version": 3
   },
   "file_extension": ".py",
   "mimetype": "text/x-python",
   "name": "python",
   "nbconvert_exporter": "python",
   "pygments_lexer": "ipython3",
   "version": "3.11.13"
  }
 },
 "nbformat": 4,
 "nbformat_minor": 5
}
