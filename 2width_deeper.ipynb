{
 "cells": [
  {
   "cell_type": "code",
   "execution_count": 1,
   "id": "92d475e5",
   "metadata": {},
   "outputs": [],
   "source": [
    "%load_ext autoreload\n",
    "%autoreload 2"
   ]
  },
  {
   "cell_type": "code",
   "execution_count": 15,
   "id": "be1af3f2",
   "metadata": {},
   "outputs": [],
   "source": [
    "from src.data import Dataset\n",
    "from src.trainer import Trainer\n",
    "from src.utils import set_seed\n",
    "\n",
    "import torch\n",
    "import torch.nn as nn\n",
    "device = torch.device(\"mps\" if torch.mps.is_available() else \"cpu\")\n",
    "\n",
    "from tqdm import tqdm\n",
    "import itertools\n",
    "\n",
    "# Package & visualize data\n",
    "import pandas as pd\n",
    "import seaborn as sns\n",
    "import matplotlib.pyplot as plt"
   ]
  },
  {
   "cell_type": "markdown",
   "id": "a33d0c11",
   "metadata": {},
   "source": [
    "# Experiment: \n",
    "\n",
    "It would be interseting to see if we keep the same performance as we scale the depth. In `1width.ipynb`, we were looking at a single layer NN.\n"
   ]
  },
  {
   "cell_type": "code",
   "execution_count": 16,
   "id": "48d60e1a",
   "metadata": {},
   "outputs": [],
   "source": [
    "class MLP(nn.Module):\n",
    "    '''\n",
    "    1-Hidden Layer MLP for testing Kernel Regime\n",
    "\n",
    "    Assumptions:\n",
    "        - Input is MNIST images of size 28x28\n",
    "        - Output is 10 classes + auxiliary_logits\n",
    "    '''\n",
    "    def __init__(self, \n",
    "        hidden_width: int, \n",
    "        auxiliary_logits: int, \n",
    "        depth: int = 1,\n",
    "        dropout: float = 0.0\n",
    "    ):\n",
    "        super(MLP, self).__init__()\n",
    "        layers = []\n",
    "        input_dim = 28*28\n",
    "        for i in range(depth):\n",
    "            layers.append(nn.Linear(input_dim, hidden_width))\n",
    "            layers.append(nn.ReLU())\n",
    "            input_dim = hidden_width\n",
    "        layers.append(nn.Linear(hidden_width, 10 + auxiliary_logits))\n",
    "        self.net = nn.Sequential(*layers)\n",
    "\n",
    "    def forward(self, x):\n",
    "        x = self.net(x)\n",
    "        return x\n",
    "\n",
    "def init_models(hidden_width: int, \n",
    "                auxiliary_logits: int, \n",
    "                depth: int):\n",
    "    teacher = MLP(hidden_width, auxiliary_logits, depth)\n",
    "    student = MLP(hidden_width, auxiliary_logits, depth)\n",
    "    student.load_state_dict(teacher.state_dict())\n",
    "    return teacher, student"
   ]
  },
  {
   "cell_type": "code",
   "execution_count": 17,
   "id": "bedd8a8f",
   "metadata": {},
   "outputs": [],
   "source": [
    "def run(hidden_width: int, \n",
    "        auxiliary_logits: int, \n",
    "        depth: int, \n",
    "        seed: int = 42):\n",
    "  # Seed\n",
    "  g = set_seed(seed)\n",
    "\n",
    "  # Initalize Network\n",
    "  teacher, student = init_models(hidden_width=hidden_width, auxiliary_logits=auxiliary_logits, depth=depth)\n",
    "  # teacher = torch.compile(teacher)\n",
    "  # student = torch.compile(student)\n",
    "\n",
    "  # Training Parameters\n",
    "  epochs = 5\n",
    "  lr = 0.001\n",
    "  optimizer_teacher = torch.optim.Adam(teacher.parameters(), lr=lr)\n",
    "  optimizer_student = torch.optim.Adam(student.parameters(), lr=lr)\n",
    "  criterion_teacher = nn.CrossEntropyLoss()\n",
    "  criterion_student = nn.MSELoss()\n",
    "\n",
    "  batch_size = 128\n",
    "  train_loader, test_loader = Dataset.load_FashionMNIST(batch_size=batch_size, seed=seed)\n",
    "\n",
    "  # Run Training\n",
    "  trainer = Trainer(student, teacher, train_loader, optimizer_teacher, optimizer_student, criterion_teacher, criterion_student, device)\n",
    "\n",
    "  baseline_teacher = trainer.performance(trainer.teacher, test_loader)\n",
    "  baseline_student = trainer.performance(trainer.student, test_loader)\n",
    "\n",
    "  print('Start Training')\n",
    "  trainer.train_teacher(epochs)\n",
    "  trainer.train_student(epochs)\n",
    "  print('Finished Training')\n",
    "\n",
    "  results_teacher = trainer.performance(trainer.teacher, test_loader)\n",
    "  results_student = trainer.performance(trainer.student, test_loader)\n",
    "\n",
    "  del teacher, student, trainer, optimizer_student, optimizer_teacher\n",
    "  torch.cuda.empty_cache()\n",
    "\n",
    "  return baseline_teacher, baseline_student, results_teacher, results_student"
   ]
  },
  {
   "cell_type": "code",
   "execution_count": 21,
   "id": "8569eca0",
   "metadata": {},
   "outputs": [
    {
     "name": "stderr",
     "output_type": "stream",
     "text": [
      "  0%|          | 0/4 [00:00<?, ?it/s]"
     ]
    },
    {
     "name": "stdout",
     "output_type": "stream",
     "text": [
      "Start Training\n"
     ]
    },
    {
     "name": "stderr",
     "output_type": "stream",
     "text": []
    },
    {
     "name": "stdout",
     "output_type": "stream",
     "text": [
      "Avg Loss: 0.604755543569512\n"
     ]
    },
    {
     "name": "stderr",
     "output_type": "stream",
     "text": []
    },
    {
     "name": "stdout",
     "output_type": "stream",
     "text": [
      "Avg Loss: 0.4059394456303196\n"
     ]
    },
    {
     "name": "stderr",
     "output_type": "stream",
     "text": []
    },
    {
     "name": "stdout",
     "output_type": "stream",
     "text": [
      "Avg Loss: 0.36394121210331093\n"
     ]
    },
    {
     "name": "stderr",
     "output_type": "stream",
     "text": []
    },
    {
     "name": "stdout",
     "output_type": "stream",
     "text": [
      "Avg Loss: 0.3346973202630147\n"
     ]
    },
    {
     "name": "stderr",
     "output_type": "stream",
     "text": [
      "100%|██████████| 5/5 [00:10<00:00,  2.20s/it]\n"
     ]
    },
    {
     "name": "stdout",
     "output_type": "stream",
     "text": [
      "Avg Loss: 0.3207313587416464\n"
     ]
    },
    {
     "name": "stderr",
     "output_type": "stream",
     "text": []
    },
    {
     "name": "stdout",
     "output_type": "stream",
     "text": [
      "Avg Loss: 0.053495270924877\n"
     ]
    },
    {
     "name": "stderr",
     "output_type": "stream",
     "text": []
    },
    {
     "name": "stdout",
     "output_type": "stream",
     "text": [
      "Avg Loss: 0.008616970656419804\n"
     ]
    },
    {
     "name": "stderr",
     "output_type": "stream",
     "text": []
    },
    {
     "name": "stdout",
     "output_type": "stream",
     "text": [
      "Avg Loss: 0.005994925358847006\n"
     ]
    },
    {
     "name": "stderr",
     "output_type": "stream",
     "text": []
    },
    {
     "name": "stdout",
     "output_type": "stream",
     "text": [
      "Avg Loss: 0.004803989550221894\n"
     ]
    },
    {
     "name": "stderr",
     "output_type": "stream",
     "text": [
      "100%|██████████| 5/5 [00:10<00:00,  2.05s/it]\n",
      " 25%|██▌       | 1/4 [00:21<01:04, 21.37s/it]"
     ]
    },
    {
     "name": "stdout",
     "output_type": "stream",
     "text": [
      "Avg Loss: 0.004130877970930324\n",
      "Finished Training\n",
      "Start Training\n"
     ]
    },
    {
     "name": "stderr",
     "output_type": "stream",
     "text": []
    },
    {
     "name": "stdout",
     "output_type": "stream",
     "text": [
      "Avg Loss: 0.678828879333\n"
     ]
    },
    {
     "name": "stderr",
     "output_type": "stream",
     "text": [
      " 20%|██        | 1/5 [00:03<00:14,  3.64s/it]\n",
      " 25%|██▌       | 1/4 [00:25<01:15, 25.03s/it]\n"
     ]
    },
    {
     "ename": "KeyboardInterrupt",
     "evalue": "",
     "output_type": "error",
     "traceback": [
      "\u001b[31m---------------------------------------------------------------------------\u001b[39m",
      "\u001b[31mKeyboardInterrupt\u001b[39m                         Traceback (most recent call last)",
      "\u001b[36mCell\u001b[39m\u001b[36m \u001b[39m\u001b[32mIn[21]\u001b[39m\u001b[32m, line 7\u001b[39m\n\u001b[32m      5\u001b[39m results = []\n\u001b[32m      6\u001b[39m \u001b[38;5;28;01mfor\u001b[39;00m i \u001b[38;5;129;01min\u001b[39;00m tqdm(depths):\n\u001b[32m----> \u001b[39m\u001b[32m7\u001b[39m     result = \u001b[43mrun\u001b[49m\u001b[43m(\u001b[49m\u001b[43mhidden_width\u001b[49m\u001b[43m=\u001b[49m\u001b[43mwidth\u001b[49m\u001b[43m,\u001b[49m\u001b[43m \u001b[49m\u001b[43mauxiliary_logits\u001b[49m\u001b[43m=\u001b[49m\u001b[43mauxiliary\u001b[49m\u001b[43m,\u001b[49m\u001b[43m \u001b[49m\u001b[43mdepth\u001b[49m\u001b[43m=\u001b[49m\u001b[43mi\u001b[49m\u001b[43m)\u001b[49m\n\u001b[32m      8\u001b[39m     results.append(result)\n",
      "\u001b[36mCell\u001b[39m\u001b[36m \u001b[39m\u001b[32mIn[17]\u001b[39m\u001b[32m, line 31\u001b[39m, in \u001b[36mrun\u001b[39m\u001b[34m(hidden_width, auxiliary_logits, depth, seed)\u001b[39m\n\u001b[32m     28\u001b[39m baseline_student = trainer.performance(trainer.student, test_loader)\n\u001b[32m     30\u001b[39m \u001b[38;5;28mprint\u001b[39m(\u001b[33m'\u001b[39m\u001b[33mStart Training\u001b[39m\u001b[33m'\u001b[39m)\n\u001b[32m---> \u001b[39m\u001b[32m31\u001b[39m \u001b[43mtrainer\u001b[49m\u001b[43m.\u001b[49m\u001b[43mtrain_teacher\u001b[49m\u001b[43m(\u001b[49m\u001b[43mepochs\u001b[49m\u001b[43m)\u001b[49m\n\u001b[32m     32\u001b[39m trainer.train_student(epochs)\n\u001b[32m     33\u001b[39m \u001b[38;5;28mprint\u001b[39m(\u001b[33m'\u001b[39m\u001b[33mFinished Training\u001b[39m\u001b[33m'\u001b[39m)\n",
      "\u001b[36mFile \u001b[39m\u001b[32m~/apart_hackathon_2025/src/trainer.py:41\u001b[39m, in \u001b[36mTrainer.train_teacher\u001b[39m\u001b[34m(self, epochs)\u001b[39m\n\u001b[32m     39\u001b[39m \u001b[38;5;28mself\u001b[39m.teacher.train()\n\u001b[32m     40\u001b[39m \u001b[38;5;28;01mfor\u001b[39;00m batch_idx, (data, target) \u001b[38;5;129;01min\u001b[39;00m \u001b[38;5;28menumerate\u001b[39m(\u001b[38;5;28mself\u001b[39m.train_loader):\n\u001b[32m---> \u001b[39m\u001b[32m41\u001b[39m     data = \u001b[43mdata\u001b[49m\u001b[43m.\u001b[49m\u001b[43mview\u001b[49m\u001b[43m(\u001b[49m\u001b[43mdata\u001b[49m\u001b[43m.\u001b[49m\u001b[43msize\u001b[49m\u001b[43m(\u001b[49m\u001b[32;43m0\u001b[39;49m\u001b[43m)\u001b[49m\u001b[43m,\u001b[49m\u001b[43m \u001b[49m\u001b[43m-\u001b[49m\u001b[32;43m1\u001b[39;49m\u001b[43m)\u001b[49m\u001b[43m.\u001b[49m\u001b[43mto\u001b[49m\u001b[43m(\u001b[49m\u001b[38;5;28;43mself\u001b[39;49m\u001b[43m.\u001b[49m\u001b[43mdevice\u001b[49m\u001b[43m)\u001b[49m  \u001b[38;5;66;03m# Flatten each batch of MNIST images\u001b[39;00m\n\u001b[32m     42\u001b[39m     target = target.to(\u001b[38;5;28mself\u001b[39m.device)\n\u001b[32m     44\u001b[39m     \u001b[38;5;28mself\u001b[39m.optimizer_teacher.zero_grad()\n",
      "\u001b[31mKeyboardInterrupt\u001b[39m: "
     ]
    }
   ],
   "source": [
    "width = 128\n",
    "auxiliary = 10\n",
    "depths = list(range(2, 10, 2))\n",
    "\n",
    "results = []\n",
    "for i in tqdm(depths):\n",
    "    result = run(hidden_width=width, auxiliary_logits=auxiliary, depth=i)\n",
    "    results.append(result)"
   ]
  },
  {
   "cell_type": "code",
   "execution_count": null,
   "id": "6d0eff6b",
   "metadata": {},
   "outputs": [],
   "source": []
  },
  {
   "cell_type": "code",
   "execution_count": 14,
   "id": "4017ce23",
   "metadata": {},
   "outputs": [
    {
     "name": "stderr",
     "output_type": "stream",
     "text": [
      "100%|██████████| 5/5 [00:00<00:00, 108660.73it/s]\n"
     ]
    },
    {
     "data": {
      "image/png": "[encoded data removed]",
      "text/plain": [
       "<Figure size 640x480 with 1 Axes>"
      ]
     },
     "metadata": {},
     "output_type": "display_data"
    }
   ],
   "source": [
    "acc_1hot_student = []\n",
    "acc_5hot_student = []\n",
    "acc_1hot_teacher = []\n",
    "depths = list(range(1, 10, 2))\n",
    "\n",
    "\n",
    "for result in tqdm(results):\n",
    "    baseline_teacher, baseline_student, results_teacher, results_student = result\n",
    "    acc_1hot_student.append(results_student['acc_1hot'])\n",
    "    acc_5hot_student.append(results_student['acc_5hot'])\n",
    "    acc_1hot_teacher.append(results_teacher['acc_1hot'])\n",
    "\n",
    "plt.plot(depths, acc_1hot_student, label='1-hot', marker='o', color='blue')\n",
    "plt.plot(depths, acc_5hot_student, label='5-hot', marker='o', color='blue', linestyle='--')\n",
    "plt.plot(depths, acc_1hot_teacher, label='1-hot', marker='o', color='red')\n",
    "plt.xlabel('depth')\n",
    "plt.ylabel('Performance Metric')\n",
    "plt.title('MLP, 2^10 hidden, 10 auxiliary logits. FashionMNIST')\n",
    "plt.legend(loc='upper left', bbox_to_anchor=(1.05, 1), borderaxespad=0.)\n",
    "plt.show()"
   ]
  },
  {
   "cell_type": "code",
   "execution_count": null,
   "id": "c7f620cc",
   "metadata": {},
   "outputs": [],
   "source": []
  }
 ],
 "metadata": {
  "kernelspec": {
   "display_name": "torch",
   "language": "python",
   "name": "python3"
  },
  "language_info": {
   "codemirror_mode": {
    "name": "ipython",
    "version": 3
   },
   "file_extension": ".py",
   "mimetype": "text/x-python",
   "name": "python",
   "nbconvert_exporter": "python",
   "pygments_lexer": "ipython3",
   "version": "3.11.13"
  }
 },
 "nbformat": 4,
 "nbformat_minor": 5
}
